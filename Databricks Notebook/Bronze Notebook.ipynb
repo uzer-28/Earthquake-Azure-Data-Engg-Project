{
 "cells": [
  {
   "cell_type": "code",
   "execution_count": 0,
   "metadata": {
    "application/vnd.databricks.v1+cell": {
     "cellMetadata": {
      "byteLimit": 2048000,
      "rowLimit": 10000
     },
     "inputWidgets": {},
     "nuid": "a8725caf-f1c9-478f-b241-73fe9b0dd0e9",
     "showTitle": false,
     "tableResultSettingsMap": {},
     "title": ""
    }
   },
   "outputs": [
    {
     "output_type": "execute_result",
     "data": {
      "text/plain": [
       "[]"
      ]
     },
     "execution_count": 1,
     "metadata": {},
     "output_type": "execute_result"
    }
   ],
   "source": [
    "tiers = ['bronze', 'silver', 'gold']\n",
    "adls_path = {tier : f'abfss://{tier}@earthquakedl.dfs.core.windows.net/' for tier in tiers}\n",
    "\n",
    "bronze_adls = adls_path['bronze']\n",
    "silver_adls = adls_path['silver']\n",
    "gold_adls = adls_path['gold']\n",
    "\n",
    "dbutils.fs.ls(bronze_adls)\n",
    "dbutils.fs.ls(silver_adls)\n",
    "dbutils.fs.ls(gold_adls)"
   ]
  },
  {
   "cell_type": "code",
   "execution_count": 0,
   "metadata": {
    "application/vnd.databricks.v1+cell": {
     "cellMetadata": {
      "byteLimit": 2048000,
      "rowLimit": 10000
     },
     "inputWidgets": {},
     "nuid": "72856b7a-8d92-43c0-8a95-9f6571454abf",
     "showTitle": false,
     "tableResultSettingsMap": {},
     "title": ""
    }
   },
   "outputs": [],
   "source": [
    "import requests\n",
    "import json\n",
    "from datetime import timedelta, date"
   ]
  },
  {
   "cell_type": "code",
   "execution_count": 0,
   "metadata": {
    "application/vnd.databricks.v1+cell": {
     "cellMetadata": {
      "byteLimit": 2048000,
      "rowLimit": 10000
     },
     "inputWidgets": {},
     "nuid": "e04fff25-d216-4bed-9dd8-1040b913d0e3",
     "showTitle": false,
     "tableResultSettingsMap": {},
     "title": ""
    }
   },
   "outputs": [],
   "source": [
    "#get the base parameters\n",
    "dbutils.widgets.text('start_date', '')\n",
    "dbutils.widgets.text('end_date', '')\n",
    "\n",
    "start_date = dbutils.widgets.get('start_date')\n",
    "end_date = dbutils.widgets.get('end_date')"
   ]
  },
  {
   "cell_type": "code",
   "execution_count": 0,
   "metadata": {
    "application/vnd.databricks.v1+cell": {
     "cellMetadata": {
      "byteLimit": 2048000,
      "rowLimit": 10000
     },
     "inputWidgets": {},
     "nuid": "79bced80-6b8b-4bca-898c-72895a33d0fd",
     "showTitle": false,
     "tableResultSettingsMap": {},
     "title": ""
    }
   },
   "outputs": [],
   "source": [
    "url=f\"https://earthquake.usgs.gov/fdsnws/event/1/query?format=geojson&starttime={start_date}&endtime={end_date}\""
   ]
  },
  {
   "cell_type": "code",
   "execution_count": 0,
   "metadata": {
    "application/vnd.databricks.v1+cell": {
     "cellMetadata": {
      "byteLimit": 2048000,
      "rowLimit": 10000
     },
     "inputWidgets": {},
     "nuid": "532aeef0-85a0-4a44-83dc-611d4d81d4bc",
     "showTitle": false,
     "tableResultSettingsMap": {},
     "title": ""
    }
   },
   "outputs": [
    {
     "output_type": "execute_result",
     "data": {
      "text/plain": [
       "'https://earthquake.usgs.gov/fdsnws/event/1/query?format=geojson&starttime=2025-04-07&endtime=2025-04-08'"
      ]
     },
     "execution_count": 6,
     "metadata": {},
     "output_type": "execute_result"
    }
   ],
   "source": [
    "url"
   ]
  },
  {
   "cell_type": "code",
   "execution_count": 0,
   "metadata": {
    "application/vnd.databricks.v1+cell": {
     "cellMetadata": {
      "byteLimit": 2048000,
      "rowLimit": 10000
     },
     "inputWidgets": {},
     "nuid": "1d6efbab-841f-4a9b-a89e-9270140c73d9",
     "showTitle": false,
     "tableResultSettingsMap": {},
     "title": ""
    }
   },
   "outputs": [
    {
     "output_type": "stream",
     "name": "stdout",
     "output_type": "stream",
     "text": [
      "Wrote 307513 bytes.\nData successfully saved to abfss://bronze@earthquakedl.dfs.core.windows.net//2025-04-07_earthquake_data.json\n"
     ]
    }
   ],
   "source": [
    "try:\n",
    "    response = requests.get(url)\n",
    "    response.raise_for_status()   #raise HTTPerror for bad response\n",
    "\n",
    "    data = response.json().get('features', [])\n",
    "\n",
    "    if not data:\n",
    "        print('No data returned for the specified data range')\n",
    "    else:\n",
    "        file_path = f\"{bronze_adls}/{start_date}_earthquake_data.json\"\n",
    "\n",
    "        json_data = json.dumps(data, indent=4)\n",
    "        dbutils.fs.put(file_path, json_data, overwrite=True)\n",
    "        print(f'Data successfully saved to {file_path}')\n",
    "\n",
    "except requests.exceptions.HTTPError as e:\n",
    "    print(f'Error fetching data from API {e}')\n",
    "\n"
   ]
  },
  {
   "cell_type": "code",
   "execution_count": 0,
   "metadata": {
    "application/vnd.databricks.v1+cell": {
     "cellMetadata": {
      "byteLimit": 2048000,
      "rowLimit": 10000
     },
     "inputWidgets": {},
     "nuid": "9b56028f-eb3c-4403-91ba-a94c334e067d",
     "showTitle": false,
     "tableResultSettingsMap": {},
     "title": ""
    }
   },
   "outputs": [
    {
     "output_type": "execute_result",
     "data": {
      "text/plain": [
       "{'type': 'Feature',\n",
       " 'properties': {'mag': 1.7,\n",
       "  'place': '55 km SSW of Whites City, New Mexico',\n",
       "  'time': 1744070187481,\n",
       "  'updated': 1744071798024,\n",
       "  'tz': None,\n",
       "  'url': 'https://earthquake.usgs.gov/earthquakes/eventpage/tx2025gvfr',\n",
       "  'detail': 'https://earthquake.usgs.gov/fdsnws/event/1/query?eventid=tx2025gvfr&format=geojson',\n",
       "  'felt': None,\n",
       "  'cdi': None,\n",
       "  'mmi': None,\n",
       "  'alert': None,\n",
       "  'status': 'automatic',\n",
       "  'tsunami': 0,\n",
       "  'sig': 44,\n",
       "  'net': 'tx',\n",
       "  'code': '2025gvfr',\n",
       "  'ids': ',tx2025gvfr,',\n",
       "  'sources': ',tx,',\n",
       "  'types': ',origin,phase-data,',\n",
       "  'nst': 8,\n",
       "  'dmin': 0,\n",
       "  'rms': 0.3,\n",
       "  'gap': 139,\n",
       "  'magType': 'ml',\n",
       "  'type': 'earthquake',\n",
       "  'title': 'M 1.7 - 55 km SSW of Whites City, New Mexico'},\n",
       " 'geometry': {'type': 'Point', 'coordinates': [-104.492, 31.685, 9.0826]},\n",
       " 'id': 'tx2025gvfr'}"
      ]
     },
     "execution_count": 12,
     "metadata": {},
     "output_type": "execute_result"
    }
   ],
   "source": [
    "data[1]"
   ]
  },
  {
   "cell_type": "code",
   "execution_count": 0,
   "metadata": {
    "application/vnd.databricks.v1+cell": {
     "cellMetadata": {},
     "inputWidgets": {},
     "nuid": "1e8f75e3-08b3-4740-9eb4-2ea6adeef8b9",
     "showTitle": false,
     "tableResultSettingsMap": {},
     "title": ""
    }
   },
   "outputs": [],
   "source": [
    "output_data = {\n",
    "    'start_date': start_date,\n",
    "    'end_date': end_date,\n",
    "    'bronze_adls': bronze_adls,\n",
    "    'silver_adls': silver_adls,\n",
    "    'gold_adls': gold_adls\n",
    "}\n",
    "\n",
    "output_json = json.dumps(output_data)\n",
    "\n",
    "print(f'Serialized JSON: {output_json}')\n",
    "\n",
    "dbutils.notebook.exit(output_json)"
   ]
  }
 ],
 "metadata": {
  "application/vnd.databricks.v1+notebook": {
   "computePreferences": null,
   "dashboards": [],
   "environmentMetadata": {
    "base_environment": "",
    "environment_version": "2"
   },
   "inputWidgetPreferences": null,
   "language": "python",
   "notebookMetadata": {
    "pythonIndentUnit": 4
   },
   "notebookName": "Bronze Notebook",
   "widgets": {}
  },
  "language_info": {
   "name": "python"
  }
 },
 "nbformat": 4,
 "nbformat_minor": 0
}